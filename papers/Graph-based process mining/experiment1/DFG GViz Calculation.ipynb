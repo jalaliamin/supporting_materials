{
 "cells": [
  {
   "cell_type": "code",
   "execution_count": 1,
   "metadata": {},
   "outputs": [],
   "source": [
    "from pm4py.objects.log.importer.xes import factory as xes_importer\n",
    "from pm4py.objects.log.importer.csv import factory as csv_importer\n",
    "\n",
    "from pm4py.algo.discovery.dfg import factory as dfg_factory\n",
    "from pm4py.visualization.dfg import factory as dfg_vis_factory\n",
    "\n",
    "import pandas as pd\n",
    "\n",
    "import timeit\n",
    "import os"
   ]
  },
  {
   "cell_type": "code",
   "execution_count": 2,
   "metadata": {},
   "outputs": [],
   "source": [
    "file = '/data/BPI2016_Clicks_NOT_Logged_In.csv'\n",
    "experiment1_file = '/data/experiment1.csv'\n",
    "method = 'pm4py'"
   ]
  },
  {
   "cell_type": "code",
   "execution_count": 3,
   "metadata": {},
   "outputs": [],
   "source": [
    "CPU_Limit = os.getenv('CPU_LIMIT')\n",
    "MEMORY_Limit = os.getenv('MEMORY_LIMIT')"
   ]
  },
  {
   "cell_type": "code",
   "execution_count": 4,
   "metadata": {},
   "outputs": [],
   "source": [
    "result_columns = ['Analysis', 'CPU Limit', 'MEMORY Limit', 'Loading Time', 'DFG Calculation Time', 'Graph Creation Time', 'Total Time']\n",
    "\n",
    "if os.path.isfile(experiment1_file):\n",
    "    result = pd.read_csv(experiment1_file)\n",
    "else:\n",
    "    result = pd.DataFrame(columns=result_columns)"
   ]
  },
  {
   "cell_type": "code",
   "execution_count": null,
   "metadata": {},
   "outputs": [],
   "source": []
  },
  {
   "cell_type": "code",
   "execution_count": 5,
   "metadata": {},
   "outputs": [],
   "source": [
    "def getDFG(result, method, CPU_Limit, MEMORY_Limit, file):\n",
    "    time_start = timeit.default_timer()\n",
    "\n",
    "    log = pd.read_csv(file, sep=';', encoding='latin-1', usecols=[\"SessionID\", \"PAGE_NAME\", \"TIMESTAMP\"])\n",
    "    log = log.rename(columns={\"SessionID\": \"case:concept:name\", \"PAGE_NAME\": \"concept:name\", \"TIMESTAMP\": \"time:timestamp\"})\n",
    "    time_log = timeit.default_timer()\n",
    "\n",
    "    dfg = dfg_factory.apply(log)\n",
    "    time_dfg = timeit.default_timer()\n",
    "    \n",
    "    gviz = dfg_vis_factory.apply(dfg)\n",
    "    #dfg_vis_factory.view(gviz)\n",
    "    time_gviz = timeit.default_timer()\n",
    "\n",
    "    Loading_Time = time_log-time_start\n",
    "    DFG_Calculation_Time = time_dfg-time_log\n",
    "    GViz_Calculation_Time = time_gviz-time_dfg\n",
    "    \n",
    "    Total_Time = time_gviz-time_start\n",
    "\n",
    "    new_row = pd.DataFrame([[method, CPU_Limit, MEMORY_Limit, Loading_Time, DFG_Calculation_Time, GViz_Calculation_Time, Total_Time]]\n",
    "                           , columns=result_columns)\n",
    "\n",
    "    result = pd.concat([result, new_row])\n",
    "    \n",
    "    return result"
   ]
  },
  {
   "cell_type": "code",
   "execution_count": 6,
   "metadata": {},
   "outputs": [],
   "source": [
    "result = getDFG(result, method, CPU_Limit, MEMORY_Limit, file)"
   ]
  },
  {
   "cell_type": "code",
   "execution_count": 7,
   "metadata": {},
   "outputs": [
    {
     "data": {
      "text/html": [
       "<div>\n",
       "<style scoped>\n",
       "    .dataframe tbody tr th:only-of-type {\n",
       "        vertical-align: middle;\n",
       "    }\n",
       "\n",
       "    .dataframe tbody tr th {\n",
       "        vertical-align: top;\n",
       "    }\n",
       "\n",
       "    .dataframe thead th {\n",
       "        text-align: right;\n",
       "    }\n",
       "</style>\n",
       "<table border=\"1\" class=\"dataframe\">\n",
       "  <thead>\n",
       "    <tr style=\"text-align: right;\">\n",
       "      <th></th>\n",
       "      <th>Analysis</th>\n",
       "      <th>CPU Limit</th>\n",
       "      <th>MEMORY Limit</th>\n",
       "      <th>Loading Time</th>\n",
       "      <th>DFG Calculation Time</th>\n",
       "      <th>Graph Creation Time</th>\n",
       "      <th>Total Time</th>\n",
       "    </tr>\n",
       "  </thead>\n",
       "  <tbody>\n",
       "    <tr>\n",
       "      <th>0</th>\n",
       "      <td>pm4py</td>\n",
       "      <td>0.5</td>\n",
       "      <td>2024m</td>\n",
       "      <td>27.09338</td>\n",
       "      <td>25.905822</td>\n",
       "      <td>1.391319</td>\n",
       "      <td>54.390521</td>\n",
       "    </tr>\n",
       "  </tbody>\n",
       "</table>\n",
       "</div>"
      ],
      "text/plain": [
       "  Analysis CPU Limit MEMORY Limit  Loading Time  DFG Calculation Time  \\\n",
       "0    pm4py       0.5        2024m      27.09338             25.905822   \n",
       "\n",
       "   Graph Creation Time  Total Time  \n",
       "0             1.391319   54.390521  "
      ]
     },
     "execution_count": 7,
     "metadata": {},
     "output_type": "execute_result"
    }
   ],
   "source": [
    "result"
   ]
  },
  {
   "cell_type": "code",
   "execution_count": null,
   "metadata": {},
   "outputs": [],
   "source": []
  }
 ],
 "metadata": {
  "kernelspec": {
   "display_name": "Python 3",
   "language": "python",
   "name": "python3"
  },
  "language_info": {
   "codemirror_mode": {
    "name": "ipython",
    "version": 3
   },
   "file_extension": ".py",
   "mimetype": "text/x-python",
   "name": "python",
   "nbconvert_exporter": "python",
   "pygments_lexer": "ipython3",
   "version": "3.7.7"
  }
 },
 "nbformat": 4,
 "nbformat_minor": 4
}
