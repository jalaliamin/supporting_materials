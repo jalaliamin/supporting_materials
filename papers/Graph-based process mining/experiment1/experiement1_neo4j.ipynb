{
 "cells": [
  {
   "cell_type": "code",
   "execution_count": 1,
   "metadata": {},
   "outputs": [],
   "source": [
    "import pandas as pd\n",
    "\n",
    "import timeit\n",
    "import os\n",
    "\n",
    "from py2neo import Graph\n",
    "import time "
   ]
  },
  {
   "cell_type": "code",
   "execution_count": 2,
   "metadata": {},
   "outputs": [],
   "source": [
    "method = 'neo4j'\n",
    "\n",
    "# if you use kubernetes, you can map the CPU_Limit & MEMORY_Limit to the arguments.\n",
    "# CPU_Limit = os.getenv('CPU_LIMIT')\n",
    "# MEMORY_Limit = os.getenv('MEMORY_LIMIT')\n",
    "CPU_Limit = '4.0'\n",
    "MEMORY_Limit = '1024m'"
   ]
  },
  {
   "cell_type": "code",
   "execution_count": 17,
   "metadata": {},
   "outputs": [],
   "source": [
    "experiment1_file = '/data/experiment1.csv'"
   ]
  },
  {
   "cell_type": "code",
   "execution_count": 18,
   "metadata": {},
   "outputs": [],
   "source": [
    "result_columns = ['Analysis', 'CPU Limit', 'MEMORY Limit', 'Loading Time', 'DFG Calculation Time', 'Total Time']"
   ]
  },
  {
   "cell_type": "code",
   "execution_count": 19,
   "metadata": {},
   "outputs": [],
   "source": [
    "def getConnection():\n",
    "    return Graph('bolt://localhost:7687', auth=(\"neo4j\", '1234'))"
   ]
  },
  {
   "cell_type": "code",
   "execution_count": 20,
   "metadata": {},
   "outputs": [],
   "source": [
    "def getDFG(conn, logName=''):\n",
    "    if logName!='':\n",
    "        CMD=\"\"\"\n",
    "            match (t1:Attribute {{key:'concept_name'}})<--(:Event {{log_concept_name:'{0}'}})-[n]->(:Event {{log_concept_name:'{0}'}})-->(t2:Attribute {{key:'concept_name'}})\n",
    "            return t1.val as dfg_from, t2.val as dfg_to, count(n) as dfg_freq\n",
    "        \"\"\".format(logName)\n",
    "    else:\n",
    "        CMD=\"\"\"\n",
    "        match (t1:Attribute {key:'concept_name'})<--(:Event)-[n]->(:Event)-->(t2:Attribute {key:'concept_name'})\n",
    "        return t1.val as dfg_from, t2.val as dfg_to, count(n) as dfg_freq\n",
    "        \"\"\"\n",
    "    res = conn.run(CMD)\n",
    "    return res.data()"
   ]
  },
  {
   "cell_type": "code",
   "execution_count": 21,
   "metadata": {},
   "outputs": [],
   "source": [
    "def getDFGFromNeo4j(result, method, CPU_Limit, MEMORY_Limit):\n",
    "    conn = getConnection()\n",
    "\n",
    "    time_start = timeit.default_timer()\n",
    "    res = getDFG(conn, 'BPI2016')\n",
    "    time_stop = timeit.default_timer()\n",
    "\n",
    "    Loading_Time = 0\n",
    "    DFG_Calculation_Time = time_stop-time_start\n",
    "    Total_Time = time_stop-time_start\n",
    "\n",
    "    new_row = pd.DataFrame([[method, CPU_Limit, MEMORY_Limit, Loading_Time, DFG_Calculation_Time, Total_Time]]\n",
    "                           , columns=result_columns)\n",
    "\n",
    "    result = pd.concat([result, new_row])\n",
    "    \n",
    "    return result"
   ]
  },
  {
   "cell_type": "code",
   "execution_count": null,
   "metadata": {},
   "outputs": [],
   "source": []
  },
  {
   "cell_type": "code",
   "execution_count": 22,
   "metadata": {},
   "outputs": [],
   "source": [
    "if os.path.isfile(experiment1_file):\n",
    "    result = pd.read_csv(experiment1_file)\n",
    "else:\n",
    "    result = pd.DataFrame(columns=result_columns)"
   ]
  },
  {
   "cell_type": "code",
   "execution_count": 9,
   "metadata": {},
   "outputs": [],
   "source": [
    "result = getDFGFromNeo4j(result, method, CPU_Limit, MEMORY_Limit)"
   ]
  },
  {
   "cell_type": "code",
   "execution_count": 10,
   "metadata": {},
   "outputs": [],
   "source": [
    "result = result.sort_values(by=result_columns)\n",
    "result.to_csv(experiment1_file, index = False)"
   ]
  },
  {
   "cell_type": "code",
   "execution_count": null,
   "metadata": {},
   "outputs": [],
   "source": []
  },
  {
   "cell_type": "code",
   "execution_count": null,
   "metadata": {},
   "outputs": [],
   "source": []
  }
 ],
 "metadata": {
  "kernelspec": {
   "display_name": "Python 3",
   "language": "python",
   "name": "python3"
  },
  "language_info": {
   "codemirror_mode": {
    "name": "ipython",
    "version": 3
   },
   "file_extension": ".py",
   "mimetype": "text/x-python",
   "name": "python",
   "nbconvert_exporter": "python",
   "pygments_lexer": "ipython3",
   "version": "3.7.3"
  }
 },
 "nbformat": 4,
 "nbformat_minor": 4
}
