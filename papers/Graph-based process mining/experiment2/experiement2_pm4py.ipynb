{
 "cells": [
  {
   "cell_type": "code",
   "execution_count": 1,
   "metadata": {},
   "outputs": [],
   "source": [
    "from pm4py.objects.log.importer.xes import factory as xes_importer\n",
    "from pm4py.objects.log.importer.csv import factory as csv_importer\n",
    "\n",
    "from pm4py.algo.discovery.dfg import factory as dfg_factory\n",
    "\n",
    "import pandas as pd\n",
    "\n",
    "import timeit\n",
    "import os\n",
    "import datetime"
   ]
  },
  {
   "cell_type": "code",
   "execution_count": null,
   "metadata": {},
   "outputs": [],
   "source": []
  },
  {
   "cell_type": "code",
   "execution_count": 2,
   "metadata": {},
   "outputs": [],
   "source": [
    "method = 'pm4py'\n",
    "\n",
    "# if you use kubernetes, you can map the dicingDate to the arguments.\n",
    "# dicingDate = os.getenv('DICING_DATE')\n",
    "dicingDate = '2015-07-01'"
   ]
  },
  {
   "cell_type": "code",
   "execution_count": null,
   "metadata": {},
   "outputs": [],
   "source": [
    "file = '/data/BPI2016_Clicks_NOT_Logged_In.csv'"
   ]
  },
  {
   "cell_type": "code",
   "execution_count": null,
   "metadata": {},
   "outputs": [],
   "source": [
    "experiment2_file = '/data/experiment2.csv'"
   ]
  },
  {
   "cell_type": "code",
   "execution_count": null,
   "metadata": {},
   "outputs": [],
   "source": [
    "result_columns = ['Analysis', 'Number Of Events', 'Loading Time', 'DFG Calculation Time', 'Total Time']"
   ]
  },
  {
   "cell_type": "code",
   "execution_count": null,
   "metadata": {},
   "outputs": [],
   "source": [
    "def getDFG(result, method, dicingDate, result_columns):\n",
    "    dicingDate = datetime.datetime.strptime(dicingDate, '%Y-%m-%d')\n",
    "    queryDate = dicingDate\n",
    "    queryDate = queryDate.strftime(\"%Y-%m-%d\")\n",
    "    \n",
    "    time_start = timeit.default_timer()\n",
    "\n",
    "    log = pd.read_csv(file, sep=';', encoding='latin-1', usecols=[\"SessionID\", \"PAGE_NAME\", \"TIMESTAMP\"])\n",
    "    log = log.rename(columns={\"SessionID\": \"case:concept:name\", \"PAGE_NAME\": \"concept:name\", \"TIMESTAMP\": \"time:timestamp\"})\n",
    "\n",
    "    log[\"time:timestamp\"] =  pd.to_datetime(log[\"time:timestamp\"])\n",
    "\n",
    "    log = log[log['time:timestamp'].dt.strftime('%Y-%m-%d') <= queryDate]\n",
    "\n",
    "    numberOfEvents = len(log.index)\n",
    "    \n",
    "    time_log = timeit.default_timer()\n",
    "\n",
    "    dfg = dfg_factory.apply(log)\n",
    "\n",
    "    time_stop = timeit.default_timer()\n",
    "\n",
    "    Loading_Time = time_log-time_start\n",
    "    DFG_Calculation_Time = time_stop-time_log\n",
    "    Total_Time = time_stop-time_start\n",
    "\n",
    "    new_row = pd.DataFrame([[method, numberOfEvents, Loading_Time, DFG_Calculation_Time, Total_Time]]\n",
    "                           , columns=result_columns)\n",
    "\n",
    "    result = pd.concat([result, new_row])\n",
    "    \n",
    "    return result"
   ]
  },
  {
   "cell_type": "code",
   "execution_count": null,
   "metadata": {},
   "outputs": [],
   "source": []
  },
  {
   "cell_type": "code",
   "execution_count": 7,
   "metadata": {},
   "outputs": [],
   "source": [
    "if os.path.isfile(experiment2_file):\n",
    "    result = pd.read_csv(experiment2_file)\n",
    "else:\n",
    "    result = pd.DataFrame(columns=result_columns)"
   ]
  },
  {
   "cell_type": "code",
   "execution_count": 8,
   "metadata": {},
   "outputs": [],
   "source": [
    "result = getDFG(result, method, dicingDate, result_columns)"
   ]
  },
  {
   "cell_type": "code",
   "execution_count": 11,
   "metadata": {},
   "outputs": [],
   "source": [
    "result = result.sort_values(by=result_columns)\n",
    "result.to_csv(experiment2_file, index = False)"
   ]
  },
  {
   "cell_type": "code",
   "execution_count": null,
   "metadata": {},
   "outputs": [],
   "source": []
  }
 ],
 "metadata": {
  "kernelspec": {
   "display_name": "Python 3",
   "language": "python",
   "name": "python3"
  },
  "language_info": {
   "codemirror_mode": {
    "name": "ipython",
    "version": 3
   },
   "file_extension": ".py",
   "mimetype": "text/x-python",
   "name": "python",
   "nbconvert_exporter": "python",
   "pygments_lexer": "ipython3",
   "version": "3.7.3"
  }
 },
 "nbformat": 4,
 "nbformat_minor": 4
}