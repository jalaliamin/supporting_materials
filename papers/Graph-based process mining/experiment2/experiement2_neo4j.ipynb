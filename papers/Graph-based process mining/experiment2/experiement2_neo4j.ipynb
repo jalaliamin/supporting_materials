{
 "cells": [
  {
   "cell_type": "code",
   "execution_count": 1,
   "metadata": {},
   "outputs": [],
   "source": [
    "import pandas as pd\n",
    "\n",
    "import timeit\n",
    "import os\n",
    "\n",
    "from py2neo import Graph\n",
    "import time \n",
    "import datetime\n"
   ]
  },
  {
   "cell_type": "code",
   "execution_count": 2,
   "metadata": {},
   "outputs": [],
   "source": [
    "method = 'neo4j'\n",
    "\n",
    "# if you use kubernetes, you can map the dicingDate to the arguments.\n",
    "# dicingDate = os.getenv('DICING_DATE')\n",
    "dicingDate = '2015-07-01'"
   ]
  },
  {
   "cell_type": "code",
   "execution_count": null,
   "metadata": {},
   "outputs": [],
   "source": [
    "experiment2_file = '/data/experiment2.csv'"
   ]
  },
  {
   "cell_type": "code",
   "execution_count": null,
   "metadata": {},
   "outputs": [],
   "source": [
    "result_columns = ['Analysis', 'Number Of Events', 'Loading Time', 'DFG Calculation Time', 'Total Time']"
   ]
  },
  {
   "cell_type": "code",
   "execution_count": null,
   "metadata": {},
   "outputs": [],
   "source": [
    "def getConnection():\n",
    "    return Graph('bolt://localhost:7687', auth=(\"neo4j\", '1234'))"
   ]
  },
  {
   "cell_type": "code",
   "execution_count": null,
   "metadata": {},
   "outputs": [],
   "source": [
    "def getDFG(conn, dicingDate):\n",
    "\n",
    "    CMD=\"\"\"\n",
    "        match (t1:Attribute {{key:'concept_name'}})<--(e1:Event {{log_concept_name:'BPI2016'}})-[n]->(e2:Event {{log_concept_name:'BPI2016'}})-->(t2:Attribute {{key:'concept_name'}})\n",
    "        where \n",
    "            date(e1.time_timestamp)<=date(\"{0}\")\n",
    "            and\n",
    "            date(e2.time_timestamp)<=date(\"{0}\")\n",
    "        return t1.val as dfg_from, t2.val as dfg_to, count(n) as dfg_freq\n",
    "    \"\"\".format(dicingDate)\n",
    "    res = conn.run(CMD)\n",
    "    return res.data()"
   ]
  },
  {
   "cell_type": "code",
   "execution_count": null,
   "metadata": {},
   "outputs": [],
   "source": [
    "def getNumberOfEvents(conn, dicingDate):\n",
    "    CMD=\"\"\"\n",
    "        match (e:Event {{log_concept_name:'BPI2016'}})\n",
    "        where date(e.time_timestamp)<=date(\"{}\")\n",
    "        return count(e) as NumberOfEvents\n",
    "    \"\"\".format(dicingDate)\n",
    "    res = conn.run(CMD)\n",
    "    return res.data()[0]['NumberOfEvents']"
   ]
  },
  {
   "cell_type": "code",
   "execution_count": 8,
   "metadata": {},
   "outputs": [],
   "source": [
    "def getDFGFromNeo4j(result, method, dicingDate, result_columns):\n",
    "    dicingDate = datetime.datetime.strptime(dicingDate, '%Y-%m-%d')\n",
    "    \n",
    "    conn = getConnection()\n",
    "\n",
    "    queryDate = dicingDate\n",
    "    queryDate = queryDate.strftime(\"%Y-%m-%d\")\n",
    "\n",
    "    numberOfEvents = getNumberOfEvents(conn, queryDate)\n",
    "\n",
    "    time_start = timeit.default_timer()\n",
    "    res = getDFG(conn, queryDate)\n",
    "    time_stop = timeit.default_timer()\n",
    "\n",
    "    Loading_Time = 0\n",
    "    DFG_Calculation_Time = time_stop-time_start\n",
    "    Total_Time = time_stop-time_start\n",
    "\n",
    "    new_row = pd.DataFrame([[method, numberOfEvents, Loading_Time, DFG_Calculation_Time, Total_Time]]\n",
    "                           , columns=result_columns)\n",
    "\n",
    "    result = pd.concat([result, new_row])\n",
    "    \n",
    "    result = result.sort_values(by=result_columns)\n",
    "    \n",
    "    return result"
   ]
  },
  {
   "cell_type": "code",
   "execution_count": null,
   "metadata": {},
   "outputs": [],
   "source": []
  },
  {
   "cell_type": "code",
   "execution_count": 9,
   "metadata": {},
   "outputs": [],
   "source": [
    "if os.path.isfile(experiment2_file):\n",
    "    result = pd.read_csv(experiment2_file)\n",
    "else:\n",
    "    result = pd.DataFrame(columns=result_columns)"
   ]
  },
  {
   "cell_type": "code",
   "execution_count": 10,
   "metadata": {},
   "outputs": [],
   "source": [
    "result = getDFGFromNeo4j(result, method, dicingDate, result_columns)"
   ]
  },
  {
   "cell_type": "code",
   "execution_count": 12,
   "metadata": {},
   "outputs": [],
   "source": [
    "result = result.sort_values(by=result_columns)\n",
    "result.to_csv(experiment2_file, index = False)"
   ]
  },
  {
   "cell_type": "code",
   "execution_count": null,
   "metadata": {},
   "outputs": [],
   "source": []
  }
 ],
 "metadata": {
  "kernelspec": {
   "display_name": "Python 3",
   "language": "python",
   "name": "python3"
  },
  "language_info": {
   "codemirror_mode": {
    "name": "ipython",
    "version": 3
   },
   "file_extension": ".py",
   "mimetype": "text/x-python",
   "name": "python",
   "nbconvert_exporter": "python",
   "pygments_lexer": "ipython3",
   "version": "3.7.3"
  }
 },
 "nbformat": 4,
 "nbformat_minor": 4
}